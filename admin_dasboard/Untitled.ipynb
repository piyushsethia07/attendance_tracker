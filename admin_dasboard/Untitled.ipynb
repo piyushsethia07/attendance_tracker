{
 "cells": [
  {
   "cell_type": "code",
   "execution_count": 1,
   "id": "3e891dfd-4b1e-4747-a680-92b2474e3e8e",
   "metadata": {},
   "outputs": [
    {
     "data": {
      "text/plain": [
       "'/Users/kashisethia/prashant_projects/project2/attendance_tracker/admin_dasboard'"
      ]
     },
     "execution_count": 1,
     "metadata": {},
     "output_type": "execute_result"
    }
   ],
   "source": [
    "pwd"
   ]
  },
  {
   "cell_type": "code",
   "execution_count": 62,
   "id": "ca820019-1fc9-4f8b-b3ad-207f2ef1f39b",
   "metadata": {},
   "outputs": [],
   "source": [
    "import pandas as pd\n",
    "from openpyxl import load_workbook"
   ]
  },
  {
   "cell_type": "code",
   "execution_count": 73,
   "id": "4ee721bc-f189-406b-b5d5-36fa8ffd218e",
   "metadata": {},
   "outputs": [],
   "source": [
    "def add_data_after_reading_csv_file(excel_file_path):\n",
    "    wb = load_workbook(excel_file_path, data_only=True)  # Use data_only=True to read evaluated values\n",
    "\n",
    "    # Create an empty list to store the data\n",
    "    data = []\n",
    "    \n",
    "    # Iterate through all sheets in the workbook\n",
    "    for sheet in wb.sheetnames:\n",
    "        # Read each sheet as a DataFrame\n",
    "        df = pd.read_excel(excel_file_path, sheet_name=sheet, header=None)\n",
    "        df = df.dropna(how='all')\n",
    "        data.append(df)\n",
    "\n",
    "    for df in data:\n",
    "        if 'date' in df.iloc[0][0].lower():\n",
    "            metadata = {}\n",
    "            for index in range(len(df.iloc[0])):\n",
    "                if pd.notna(df.iloc[0][index]):\n",
    "                    try:\n",
    "                        key = df.iloc[0][index].split(':')[0].strip().lower()\n",
    "                        if key.lower() == 'class total':\n",
    "                            value = df.iloc[0][index+1]\n",
    "                        else:\n",
    "                            value = df.iloc[0][index].split(':')[1].strip()\n",
    "                        metadata[key] = value\n",
    "                    except:\n",
    "                        pass\n",
    "                        # print('Invalid data format')\n",
    "            print(metadata)\n",
    "            temp_df = df\n",
    "            temp_df = temp_df.drop(0)\n",
    "            \n",
    "            # Set the second row as column names\n",
    "            temp_df.columns = temp_df.iloc[0]\n",
    "            \n",
    "            # Reset the index\n",
    "            temp_df = temp_df.reset_index(drop=True)\n",
    "            \n",
    "            temp_df = temp_df.drop(0)\n",
    "            # Print the resulting DataFrame\n",
    "            print(temp_df.columns)\n",
    "            temp_df.columns = temp_df.columns.str.replace('\\n',' ')\n",
    "            print(temp_df.columns)\n",
    "            "
   ]
  },
  {
   "cell_type": "code",
   "execution_count": 72,
   "id": "e02dc6d8-b994-4b96-9a73-3ed16df92d03",
   "metadata": {},
   "outputs": [],
   "source": [
    "def add_data_after_reading_csv_file(excel_file_path):\n",
    "    wb = load_workbook(excel_file_path, data_only=True)  # Use data_only=True to read evaluated values\n",
    "\n",
    "    # Create an empty list to store the data\n",
    "    data = []\n",
    "    \n",
    "    # Iterate through all sheets in the workbook\n",
    "    for sheet in wb.sheetnames:\n",
    "        # Read each sheet as a DataFrame\n",
    "        df = pd.read_excel(excel_file_path, sheet_name=sheet, header=None)\n",
    "        df = df.dropna(how='all')\n",
    "        data.append(df)\n",
    "\n",
    "    for df in data:\n",
    "        if 'date' in df.iloc[0][0].lower():\n",
    "            metadata = {}\n",
    "            for index in range(len(df.iloc[0])):\n",
    "                if pd.notna(df.iloc[0][index]):\n",
    "                    try:\n",
    "                        key = df.iloc[0][index].split(':')[0].strip().lower()\n",
    "                        if key.lower() == 'class total':\n",
    "                            value = df.iloc[0][index+1]\n",
    "                        else:\n",
    "                            value = df.iloc[0][index].split(':')[1].strip()\n",
    "                        metadata[key] = value\n",
    "                    except:\n",
    "                        pass\n",
    "                        # print('Invalid data format')\n",
    "            print(metadata)\n",
    "            temp_df = df\n",
    "            temp_df = temp_df.drop(0)\n",
    "            \n",
    "            # Set the second row as column names\n",
    "            temp_df.columns = temp_df.iloc[0]\n",
    "            \n",
    "            # Reset the index\n",
    "            temp_df = temp_df.reset_index(drop=True)\n",
    "            \n",
    "            temp_df = temp_df.drop(0)\n",
    "            selected_columns = [                          'Student ID',\n",
    "                                      'AC/IT',\n",
    "                                        'Att',\n",
    "                                  'Last Name',\n",
    "                                 'First Name',\n",
    "                             'Preferred name',\n",
    "                                      'Notes',\n",
    "                         '9:00 AM - 11:00 AM',\n",
    "        'Morning Break\\n(11:00 AM- 11:15 AM)',\n",
    "                         '11:15 AM - 1:15 PM',\n",
    "            'Lunch Break\\n(1:15 PM -1:45 PM)',\n",
    "                          '1:45 PM - 3:45 PM',\n",
    "              'Tea Break\\n(3:45 PM- 4:00 PM)',\n",
    "                          '4:00 PM - 5:30 PM',\n",
    "       'No of Hours at Final Session(5:30PM)','Total Hours']\n",
    "            selected_columns_student = ['Student ID',\n",
    "                                      'AC/IT',\n",
    "                                        'Att',\n",
    "                                  'Last Name',\n",
    "                                 'First Name',\n",
    "                             'Preferred name']\n",
    "            selected_columns_student_class = ['Student ID',\n",
    "                                      'Notes',\n",
    "                         '9:00 AM - 11:00 AM',\n",
    "        'Morning Break\\n(11:00 AM- 11:15 AM)',\n",
    "                         '11:15 AM - 1:15 PM',\n",
    "            'Lunch Break\\n(1:15 PM -1:45 PM)',\n",
    "                          '1:45 PM - 3:45 PM',\n",
    "              'Tea Break\\n(3:45 PM- 4:00 PM)',\n",
    "                          '4:00 PM - 5:30 PM',\n",
    "       'No of Hours at Final Session(5:30PM)','Total Hours']\n",
    "            \n",
    "            \n",
    "            # Print the resulting DataFrame\n",
    "            new_df = temp_df[selected_columns]\n",
    "            \n",
    "            return ()"
   ]
  },
  {
   "cell_type": "code",
   "execution_count": 74,
   "id": "6111f4f3-18b7-41ed-98bb-ae5cdb638b89",
   "metadata": {},
   "outputs": [
    {
     "name": "stdout",
     "output_type": "stream",
     "text": [
      "{'date': '05/08/2023', 'module': 'Study Period D,RS3', 'class': 'Mel Sat. 01', 'trainer': 'Adrian White', 'class total': 19}\n",
      "Index([                          'Student ID',\n",
      "                                      'AC/IT',\n",
      "                                        'Att',\n",
      "                                  'Total Hrs',\n",
      "                                  'Last Name',\n",
      "                                 'First Name',\n",
      "                             'Preferred name',\n",
      "                                      'Notes',\n",
      "                         '9:00 AM - 11:00 AM',\n",
      "        'Morning Break\\n(11:00 AM- 11:15 AM)',\n",
      "                         '11:15 AM - 1:15 PM',\n",
      "            'Lunch Break\\n(1:15 PM -1:45 PM)',\n",
      "                          '1:45 PM - 3:45 PM',\n",
      "              'Tea Break\\n(3:45 PM- 4:00 PM)',\n",
      "                          '4:00 PM - 5:30 PM',\n",
      "       'No of Hours at Final Session(5:30PM)',\n",
      "                                'Total Hours',\n",
      "                     'S.S Use Only. Lateness',\n",
      "                                          nan,\n",
      "                                          nan,\n",
      "                                    'present',\n",
      "                                   'feedback',\n",
      "                                          nan,\n",
      "                                          nan,\n",
      "                                          nan,\n",
      "                                          nan],\n",
      "      dtype='object', name=1)\n",
      "Index([                          'Student ID',\n",
      "                                      'AC/IT',\n",
      "                                        'Att',\n",
      "                                  'Total Hrs',\n",
      "                                  'Last Name',\n",
      "                                 'First Name',\n",
      "                             'Preferred name',\n",
      "                                      'Notes',\n",
      "                         '9:00 AM - 11:00 AM',\n",
      "         'Morning Break (11:00 AM- 11:15 AM)',\n",
      "                         '11:15 AM - 1:15 PM',\n",
      "             'Lunch Break (1:15 PM -1:45 PM)',\n",
      "                          '1:45 PM - 3:45 PM',\n",
      "               'Tea Break (3:45 PM- 4:00 PM)',\n",
      "                          '4:00 PM - 5:30 PM',\n",
      "       'No of Hours at Final Session(5:30PM)',\n",
      "                                'Total Hours',\n",
      "                     'S.S Use Only. Lateness',\n",
      "                                          nan,\n",
      "                                          nan,\n",
      "                                    'present',\n",
      "                                   'feedback',\n",
      "                                          nan,\n",
      "                                          nan,\n",
      "                                          nan,\n",
      "                                          nan],\n",
      "      dtype='object', name=1)\n",
      "{'date': '12/08/2023', 'module': 'Study Period D,RS4', 'class': 'Mel Sat. 01', 'trainer': 'Adrian White', 'class total': 19}\n",
      "Index([                          'Student ID',\n",
      "                                      'AC/IT',\n",
      "                                        'Att',\n",
      "                                  'Total Hrs',\n",
      "                                  'Last Name',\n",
      "                                 'First Name',\n",
      "                             'Preferred name',\n",
      "                                      'Notes',\n",
      "                         '9:00 AM - 11:00 AM',\n",
      "        'Morning Break\\n(11:00 AM- 11:15 AM)',\n",
      "                         '11:15 AM - 1:15 PM',\n",
      "            'Lunch Break\\n(1:15 PM -1:45 PM)',\n",
      "                          '1:45 PM - 3:45 PM',\n",
      "              'Tea Break\\n(3:45 PM- 4:00 PM)',\n",
      "                          '4:00 PM - 5:30 PM',\n",
      "       'No of Hours at Final Session(5:30PM)',\n",
      "                                'Total Hours',\n",
      "                     'S.S Use Only. Lateness',\n",
      "                                          nan,\n",
      "                                          nan,\n",
      "                                    'present',\n",
      "                                   'feedback',\n",
      "                                          nan,\n",
      "                                          nan,\n",
      "                                          nan,\n",
      "                                          nan],\n",
      "      dtype='object', name=1)\n",
      "Index([                          'Student ID',\n",
      "                                      'AC/IT',\n",
      "                                        'Att',\n",
      "                                  'Total Hrs',\n",
      "                                  'Last Name',\n",
      "                                 'First Name',\n",
      "                             'Preferred name',\n",
      "                                      'Notes',\n",
      "                         '9:00 AM - 11:00 AM',\n",
      "         'Morning Break (11:00 AM- 11:15 AM)',\n",
      "                         '11:15 AM - 1:15 PM',\n",
      "             'Lunch Break (1:15 PM -1:45 PM)',\n",
      "                          '1:45 PM - 3:45 PM',\n",
      "               'Tea Break (3:45 PM- 4:00 PM)',\n",
      "                          '4:00 PM - 5:30 PM',\n",
      "       'No of Hours at Final Session(5:30PM)',\n",
      "                                'Total Hours',\n",
      "                     'S.S Use Only. Lateness',\n",
      "                                          nan,\n",
      "                                          nan,\n",
      "                                    'present',\n",
      "                                   'feedback',\n",
      "                                          nan,\n",
      "                                          nan,\n",
      "                                          nan,\n",
      "                                          nan],\n",
      "      dtype='object', name=1)\n"
     ]
    }
   ],
   "source": [
    "file_name = '/Users/kashisethia/prashant_projects/project2/attendance_tracker/Mel Sat.01AdrianWhite August 2023.xlsx'\n",
    "add_data_after_reading_csv_file(file_name)"
   ]
  },
  {
   "cell_type": "code",
   "execution_count": 49,
   "id": "2b05f34f-0cf6-4710-9310-37620c7dbb17",
   "metadata": {},
   "outputs": [],
   "source": [
    "import sqlite3\n",
    "conn = sqlite3.connect('db.sqlite3')  # Replace 'your_database.db' with the actual path to your SQLite database file.\n",
    "cursor = conn.cursor()"
   ]
  },
  {
   "cell_type": "code",
   "execution_count": 50,
   "id": "fc8fb504-ee2f-48b9-a158-4fcff1da3b1e",
   "metadata": {},
   "outputs": [
    {
     "data": {
      "text/plain": [
       "[('django_migrations',),\n",
       " ('sqlite_sequence',),\n",
       " ('auth_group_permissions',),\n",
       " ('auth_user_groups',),\n",
       " ('auth_user_user_permissions',),\n",
       " ('django_admin_log',),\n",
       " ('django_content_type',),\n",
       " ('auth_permission',),\n",
       " ('auth_group',),\n",
       " ('auth_user',),\n",
       " ('myapp_class',),\n",
       " ('myapp_student',),\n",
       " ('myapp_teacher',),\n",
       " ('myapp_uploadfile',),\n",
       " ('myapp_studentclass',),\n",
       " ('myapp_classschedule',),\n",
       " ('django_session',)]"
      ]
     },
     "execution_count": 50,
     "metadata": {},
     "output_type": "execute_result"
    }
   ],
   "source": [
    "cursor.execute('''SELECT name FROM sqlite_master WHERE type='table';''').fetchall()"
   ]
  },
  {
   "cell_type": "code",
   "execution_count": 53,
   "id": "dadfbd68-c21a-4155-81ac-bd87149dbe05",
   "metadata": {},
   "outputs": [
    {
     "ename": "NameError",
     "evalue": "name '__file__' is not defined",
     "output_type": "error",
     "traceback": [
      "\u001b[0;31m---------------------------------------------------------------------------\u001b[0m",
      "\u001b[0;31mNameError\u001b[0m                                 Traceback (most recent call last)",
      "Cell \u001b[0;32mIn[53], line 7\u001b[0m\n\u001b[1;32m      3\u001b[0m \u001b[38;5;28;01mfrom\u001b[39;00m \u001b[38;5;21;01mpathlib\u001b[39;00m \u001b[38;5;28;01mimport\u001b[39;00m Path\n\u001b[1;32m      5\u001b[0m \u001b[38;5;28;01mimport\u001b[39;00m \u001b[38;5;21;01mdjango\u001b[39;00m\n\u001b[0;32m----> 7\u001b[0m PROJECT_ROOT_DIR \u001b[38;5;241m=\u001b[39m Path(os\u001b[38;5;241m.\u001b[39mpath\u001b[38;5;241m.\u001b[39mabspath(\u001b[38;5;18;43m__file__\u001b[39;49m))\u001b[38;5;241m.\u001b[39mparents[\u001b[38;5;241m1\u001b[39m]\n\u001b[1;32m      8\u001b[0m DJANGO_ROOT_DIR \u001b[38;5;241m=\u001b[39m PROJECT_ROOT_DIR \u001b[38;5;241m/\u001b[39m \u001b[38;5;124m\"\u001b[39m\u001b[38;5;124mclassificationapp\u001b[39m\u001b[38;5;124m\"\u001b[39m\n",
      "\u001b[0;31mNameError\u001b[0m: name '__file__' is not defined"
     ]
    }
   ],
   "source": [
    "import os\n",
    "import sys\n",
    "from pathlib import Path\n",
    "\n",
    "import django\n",
    "\n",
    "PROJECT_ROOT_DIR = Path(os.path.abspath(__file__)).parents[1]\n",
    "DJANGO_ROOT_DIR = PROJECT_ROOT_DIR / \"classificationapp\""
   ]
  },
  {
   "cell_type": "code",
   "execution_count": 51,
   "id": "722f443c-719d-4551-9c1e-04e9f1753bac",
   "metadata": {},
   "outputs": [],
   "source": [
    "metadata = {'date': '05/08/2023', 'module': 'Study Period D,RS3', 'class': 'Mel Sat. 01', 'trainer': 'Adriassn White', 'class total': 19}"
   ]
  },
  {
   "cell_type": "code",
   "execution_count": 52,
   "id": "acaceffc-3aad-49a1-8788-ffd6239de508",
   "metadata": {},
   "outputs": [
    {
     "ename": "IntegrityError",
     "evalue": "NOT NULL constraint failed: myapp_teacher.password",
     "output_type": "error",
     "traceback": [
      "\u001b[0;31m---------------------------------------------------------------------------\u001b[0m",
      "\u001b[0;31mIntegrityError\u001b[0m                            Traceback (most recent call last)",
      "Cell \u001b[0;32mIn[52], line 2\u001b[0m\n\u001b[1;32m      1\u001b[0m cursor \u001b[38;5;241m=\u001b[39m conn\u001b[38;5;241m.\u001b[39mcursor()\n\u001b[0;32m----> 2\u001b[0m \u001b[43mcursor\u001b[49m\u001b[38;5;241;43m.\u001b[39;49m\u001b[43mexecute\u001b[49m\u001b[43m(\u001b[49m\u001b[38;5;124;43m\"\u001b[39;49m\u001b[38;5;124;43mINSERT INTO myapp_teacher (teacher_name) VALUES (?)\u001b[39;49m\u001b[38;5;124;43m\"\u001b[39;49m\u001b[43m,\u001b[49m\u001b[43m \u001b[49m\u001b[43m(\u001b[49m\u001b[43mmetadata\u001b[49m\u001b[43m[\u001b[49m\u001b[38;5;124;43m'\u001b[39;49m\u001b[38;5;124;43mtrainer\u001b[39;49m\u001b[38;5;124;43m'\u001b[39;49m\u001b[43m]\u001b[49m\u001b[43m,\u001b[49m\u001b[43m)\u001b[49m\u001b[43m)\u001b[49m\n\u001b[1;32m      3\u001b[0m conn\u001b[38;5;241m.\u001b[39mcommit()\n",
      "\u001b[0;31mIntegrityError\u001b[0m: NOT NULL constraint failed: myapp_teacher.password"
     ]
    }
   ],
   "source": [
    "cursor = conn.cursor()\n",
    "cursor.execute(\"INSERT INTO myapp_teacher (teacher_name) VALUES (?)\", (metadata['trainer'],))\n",
    "conn.commit()\n"
   ]
  },
  {
   "cell_type": "code",
   "execution_count": 43,
   "id": "8205bff1-d58f-4140-b65a-54dc249c08e3",
   "metadata": {},
   "outputs": [
    {
     "name": "stdout",
     "output_type": "stream",
     "text": [
      "['id', 'teacher_name']\n",
      "{'id': 1, 'teacher_name': 'Adrian White'}\n"
     ]
    }
   ],
   "source": [
    "# Create a cursor object\n",
    "cursor = conn.cursor()\n",
    "\n",
    "# Execute the SQL query\n",
    "cursor.execute(\"SELECT * from myapp_teacher\")\n",
    "\n",
    "# Get column names\n",
    "column_names = [desc[0] for desc in cursor.description]\n",
    "\n",
    "# Fetch all rows\n",
    "rows = cursor.fetchall()\n",
    "\n",
    "# Print column names\n",
    "print(column_names)\n",
    "\n",
    "# Print rows with column names\n",
    "for row in rows:\n",
    "    row_dict = dict(zip(column_names, row))\n",
    "    print(row_dict)\n",
    "\n",
    "# Close the cursor and connection\n",
    "cursor.close()\n"
   ]
  },
  {
   "cell_type": "code",
   "execution_count": 35,
   "id": "20b0b9ae-9d1a-4d76-bbbf-83a4ead8918c",
   "metadata": {},
   "outputs": [],
   "source": [
    "cursor = conn.cursor()\n",
    "cursor.execute(\"INSERT INTO myapp_class (class_name) VALUES (?)\", (metadata['class'],))\n",
    "conn.commit()\n"
   ]
  },
  {
   "cell_type": "code",
   "execution_count": 36,
   "id": "41e43fc2-5311-474d-8074-6f5ad0d11030",
   "metadata": {},
   "outputs": [
    {
     "name": "stdout",
     "output_type": "stream",
     "text": [
      "['id', 'class_name']\n",
      "{'id': 1, 'class_name': 'Mel Sat. 01'}\n"
     ]
    }
   ],
   "source": [
    "# Create a cursor object\n",
    "cursor = conn.cursor()\n",
    "\n",
    "# Execute the SQL query\n",
    "cursor.execute(\"SELECT * from myapp_class\")\n",
    "\n",
    "# Get column names\n",
    "column_names = [desc[0] for desc in cursor.description]\n",
    "\n",
    "# Fetch all rows\n",
    "rows = cursor.fetchall()\n",
    "\n",
    "# Print column names\n",
    "print(column_names)\n",
    "\n",
    "# Print rows with column names\n",
    "for row in rows:\n",
    "    row_dict = dict(zip(column_names, row))\n",
    "    print(row_dict)\n",
    "\n",
    "# Close the cursor and connection\n",
    "cursor.close()\n"
   ]
  },
  {
   "cell_type": "code",
   "execution_count": 44,
   "id": "04d807c5-a1aa-410a-9214-6b3f85985b31",
   "metadata": {},
   "outputs": [],
   "source": [
    "cursor = conn.cursor()\n",
    "cursor.execute(\"INSERT INTO myapp_classschedule (date, module, class_info_id, trainer_id, class_total) VALUES (?, ?, ?, ?, ?)\",\n",
    "               (metadata['date'], metadata['module'], metadata['class'], metadata['trainer'], metadata['class total']))\n",
    "conn.commit()\n"
   ]
  },
  {
   "cell_type": "code",
   "execution_count": 45,
   "id": "94f95327-e022-402c-9618-77b229eabb33",
   "metadata": {},
   "outputs": [
    {
     "name": "stdout",
     "output_type": "stream",
     "text": [
      "['id', 'date', 'module', 'class_total', 'class_info_id', 'trainer_id']\n",
      "{'id': 1, 'date': '05/08/2023', 'module': 'Study Period D,RS3', 'class_total': 19, 'class_info_id': 'Mel Sat. 01', 'trainer_id': 'Adrian White'}\n",
      "{'id': 2, 'date': '05/08/2023', 'module': 'Study Period D,RS3', 'class_total': 19, 'class_info_id': 'Mel Sat. 01', 'trainer_id': 'Adriassn White'}\n",
      "{'id': 3, 'date': '05/08/2023', 'module': 'Study Period D,RS3', 'class_total': 19, 'class_info_id': 'Mel Sat. 01', 'trainer_id': 1}\n"
     ]
    }
   ],
   "source": [
    "# Create a cursor object\n",
    "cursor = conn.cursor()\n",
    "\n",
    "# Execute the SQL query\n",
    "cursor.execute(\"SELECT * from myapp_classschedule\")\n",
    "\n",
    "# Get column names\n",
    "column_names = [desc[0] for desc in cursor.description]\n",
    "\n",
    "# Fetch all rows\n",
    "rows = cursor.fetchall()\n",
    "\n",
    "# Print column names\n",
    "print(column_names)\n",
    "\n",
    "# Print rows with column names\n",
    "for row in rows:\n",
    "    row_dict = dict(zip(column_names, row))\n",
    "    print(row_dict)\n",
    "\n",
    "# Close the cursor and connection\n",
    "cursor.close()\n"
   ]
  },
  {
   "cell_type": "code",
   "execution_count": null,
   "id": "0920fdff-d6e5-4465-aad7-d8764e9538a3",
   "metadata": {},
   "outputs": [],
   "source": []
  }
 ],
 "metadata": {
  "kernelspec": {
   "display_name": "Python 3 (ipykernel)",
   "language": "python",
   "name": "python3"
  },
  "language_info": {
   "codemirror_mode": {
    "name": "ipython",
    "version": 3
   },
   "file_extension": ".py",
   "mimetype": "text/x-python",
   "name": "python",
   "nbconvert_exporter": "python",
   "pygments_lexer": "ipython3",
   "version": "3.9.6"
  }
 },
 "nbformat": 4,
 "nbformat_minor": 5
}
